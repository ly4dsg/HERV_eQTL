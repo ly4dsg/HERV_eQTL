{
 "cells": [
  {
   "cell_type": "code",
   "execution_count": null,
   "id": "b559eee1-6cb6-446d-9525-9eb734d374ae",
   "metadata": {},
   "outputs": [],
   "source": [
    "### This script refers to the Tensorqtl(https://github.com/broadinstitute/tensorqtl) tutorial."
   ]
  },
  {
   "cell_type": "code",
   "execution_count": null,
   "id": "466b7104-3dfd-4fb6-ac81-f086805bdbf2",
   "metadata": {},
   "outputs": [],
   "source": [
    "import pandas as pd\n",
    "import tensorqtl\n",
    "from tensorqtl import pgen, cis, trans, post"
   ]
  },
  {
   "cell_type": "code",
   "execution_count": null,
   "id": "dd26a034-b657-4089-84ab-88f821bb5c14",
   "metadata": {},
   "outputs": [],
   "source": [
    "import torch\n",
    "device = torch.device(\"cuda\" if torch.cuda.is_available() else \"cpu\")\n",
    "print(f\"torch: {torch.__version__} (CUDA {torch.version.cuda}), device: {device}\")\n",
    "print(f\"pandas {pd.__version__}\")"
   ]
  },
  {
   "cell_type": "code",
   "execution_count": null,
   "id": "86adcac2-2b60-4634-aedf-6f91464660c3",
   "metadata": {},
   "outputs": [],
   "source": [
    "prefix = 'CD4-T'"
   ]
  },
  {
   "cell_type": "code",
   "execution_count": null,
   "id": "8dc455a0-f718-4b32-85a3-d4184d985a0f",
   "metadata": {},
   "outputs": [],
   "source": [
    "phenotype_df = pd.read_csv(f\"/path/of/expression/{prefix}/{prefix}_herv.csv\",sep = \"\\t\",index_col = 0)\n",
    "phenotype_df"
   ]
  },
  {
   "cell_type": "code",
   "execution_count": null,
   "id": "8e2b2b15-fa04-4210-bd8f-d7f171739225",
   "metadata": {},
   "outputs": [],
   "source": [
    "covariates_df = pd.read_csv(f\"/path/of/peer_factor/{prefix}_peer_factors_2.tsv\",sep = \"\\t\",index_col = 0)\n",
    "covariates_df = covariates_df.T\n",
    "covariates_df"
   ]
  },
  {
   "cell_type": "code",
   "execution_count": null,
   "id": "2f0f8719-5b14-4da8-b653-8f06a74fd0a5",
   "metadata": {},
   "outputs": [],
   "source": [
    "phenotype_pos_df = pd.read_csv(\"/path/of/herv_info.txt\",sep = \",\",index_col = 0,header = None)\n",
    "phenotype_pos_df.columns = [\"gene_id\",\"chr\",\"strand\",\"pos\",\"end\"]\n",
    "phenotype_pos_df.index = phenotype_pos_df['gene_id']\n",
    "phenotype_pos_df = phenotype_pos_df[['chr','pos']]"
   ]
  },
  {
   "cell_type": "code",
   "execution_count": null,
   "id": "dbb76de4-a713-44a3-bde8-4f6581d56514",
   "metadata": {},
   "outputs": [],
   "source": [
    "phenotype_pos_df = phenotype_pos_df[phenotype_pos_df.index.isin(phenotype_df.index)]\n",
    "phenotype_pos_df = phenotype_pos_df.reindex(phenotype_df.index)"
   ]
  },
  {
   "cell_type": "code",
   "execution_count": null,
   "id": "85c59cfd-96b3-4bcb-a46e-838b327531f9",
   "metadata": {},
   "outputs": [],
   "source": [
    "genotype_df = pd.read_csv(\"/path/of/genotype/genotype_all.csv\",sep = \"\\t\",index_col = 0)\n",
    "genotype_df"
   ]
  },
  {
   "cell_type": "code",
   "execution_count": null,
   "id": "f96b37d1-ce91-46bb-920f-d4b7a04575f2",
   "metadata": {},
   "outputs": [],
   "source": [
    "variant_df = pd.read_csv(\"/path/of/snp_info_uniq.txt\",sep = \",\" ,index_col = 0)\n",
    "variant_df = variant_df[variant_df.index.isin(genotype_df.index)]\n",
    "variant_df = variant_df[['chr','start']]\n",
    "variant_df.columns = ['chrom','pos']\n",
    "variant_df['index'] = range(0,len(variant_df))\n",
    "variant_df = variant_df.reindex(genotype_df.index)"
   ]
  },
  {
   "cell_type": "code",
   "execution_count": null,
   "id": "deb3c3e6-2040-4ad6-b043-d567dc283862",
   "metadata": {},
   "outputs": [],
   "source": [
    "# map all cis-associations (results for each chromosome are written to file)\n",
    "\n",
    "for chrom in range(1,23):\n",
    "    cis.map_nominal(genotype_df, variant_df,\n",
    "                    phenotype_df.loc[phenotype_pos_df[phenotype_pos_df['chr'] == chrom].index],\n",
    "                    phenotype_pos_df[phenotype_pos_df['chr'] == chrom],\n",
    "                    prefix=prefix, covariates_df=covariates_df)\n",
    "    # load results\n",
    "    pairs_df = pd.read_parquet(f'{prefix}.cis_qtl_pairs.chr{chrom}.parquet')\n",
    "    pairs_df.to_csv(f'{prefix}_{chrom}.csv')"
   ]
  },
  {
   "cell_type": "code",
   "execution_count": null,
   "id": "d610d241-5c4e-4912-ab7c-3c9dfec3061a",
   "metadata": {},
   "outputs": [],
   "source": [
    "cis_df = cis.map_cis(genotype_df, variant_df, \n",
    "                     phenotype_df,\n",
    "                     phenotype_pos_df,\n",
    "                     covariates_df, seed=123456)"
   ]
  },
  {
   "cell_type": "code",
   "execution_count": null,
   "id": "59f85154-6e86-4a62-bb4a-f144e39a3fb5",
   "metadata": {},
   "outputs": [],
   "source": [
    "# compute q-values (in practice, this must be run on all genes, not a subset)\n",
    "post.calculate_qvalues(cis_df, fdr=0.05, qvalue_lambda=0.85)"
   ]
  },
  {
   "cell_type": "code",
   "execution_count": null,
   "id": "7720c537-475f-476e-a05e-ca6a6f9c7206",
   "metadata": {},
   "outputs": [],
   "source": [
    "indep_df = cis.map_independent(genotype_df, variant_df, cis_df,\n",
    "                               phenotype_df, phenotype_pos_df, covariates_df)"
   ]
  },
  {
   "cell_type": "code",
   "execution_count": null,
   "id": "33859263-b2e7-44d4-b4b2-93b2f970946d",
   "metadata": {},
   "outputs": [],
   "source": [
    "indep_df['gene_snp'] = indep_df['phenotype_id'] + \"@\" + indep_df['variant_id']"
   ]
  },
  {
   "cell_type": "code",
   "execution_count": null,
   "id": "23dd76f0-f8cf-4a21-9200-c09e0c838ed0",
   "metadata": {},
   "outputs": [],
   "source": [
    "indep_df.to_csv(f\"{prefix}_indepent.csv\")"
   ]
  },
  {
   "cell_type": "code",
   "execution_count": null,
   "id": "3ba4c73b-30de-457b-9828-0e75dcc3b1b7",
   "metadata": {},
   "outputs": [],
   "source": []
  },
  {
   "cell_type": "code",
   "execution_count": null,
   "id": "b7e0185c-1332-4cd2-b06f-a30dce8fd601",
   "metadata": {},
   "outputs": [],
   "source": []
  }
 ],
 "metadata": {
  "kernelspec": {
   "display_name": "tensorqtl_new",
   "language": "python",
   "name": "zhufan"
  },
  "language_info": {
   "codemirror_mode": {
    "name": "ipython",
    "version": 3
   },
   "file_extension": ".py",
   "mimetype": "text/x-python",
   "name": "python",
   "nbconvert_exporter": "python",
   "pygments_lexer": "ipython3",
   "version": "3.11.10"
  }
 },
 "nbformat": 4,
 "nbformat_minor": 5
}
