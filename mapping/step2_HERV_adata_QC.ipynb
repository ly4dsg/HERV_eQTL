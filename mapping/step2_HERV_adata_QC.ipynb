{
 "cells": [
  {
   "cell_type": "code",
   "execution_count": 1,
   "id": "ddd95bd3-c624-4e63-8428-0f8a5557ab8d",
   "metadata": {},
   "outputs": [],
   "source": [
    "import pandas as pd\n",
    "import numpy as np\n",
    "import scanpy as sc\n",
    "from glob import glob\n",
    "import seaborn as sns\n",
    "import matplotlib.pyplot as plt\n",
    "\n",
    "sc.settings.verbosity = 3 \n",
    "plt.rcParams['pdf.fonttype'] = 42\n",
    "plt.rcParams['font.sans-serif'] = 'Arial'\n",
    "sns.set_style('white', {'axes.grid' : False})"
   ]
  },
  {
   "cell_type": "code",
   "execution_count": 2,
   "id": "1daf4e61-9464-46fd-a85d-4b02878138e2",
   "metadata": {},
   "outputs": [],
   "source": [
    "metadata = pd.read_csv('../GSE196830.meta')\n",
    "batch_pool_dict = dict(zip(metadata['batch'],metadata['pool']))"
   ]
  },
  {
   "cell_type": "code",
   "execution_count": 3,
   "id": "115c3e66-88ad-45f6-a552-d110bc1e855d",
   "metadata": {
    "tags": []
   },
   "outputs": [
    {
     "name": "stdout",
     "output_type": "stream",
     "text": [
      "--> This might be very slow. Consider passing `cache=True`, which enables much faster reading from a cache file.\n",
      "--> This might be very slow. Consider passing `cache=True`, which enables much faster reading from a cache file.\n",
      "--> This might be very slow. Consider passing `cache=True`, which enables much faster reading from a cache file.\n",
      "--> This might be very slow. Consider passing `cache=True`, which enables much faster reading from a cache file.\n",
      "--> This might be very slow. Consider passing `cache=True`, which enables much faster reading from a cache file.\n",
      "--> This might be very slow. Consider passing `cache=True`, which enables much faster reading from a cache file.\n",
      "--> This might be very slow. Consider passing `cache=True`, which enables much faster reading from a cache file.\n",
      "--> This might be very slow. Consider passing `cache=True`, which enables much faster reading from a cache file.\n",
      "--> This might be very slow. Consider passing `cache=True`, which enables much faster reading from a cache file.\n",
      "--> This might be very slow. Consider passing `cache=True`, which enables much faster reading from a cache file.\n",
      "--> This might be very slow. Consider passing `cache=True`, which enables much faster reading from a cache file.\n",
      "--> This might be very slow. Consider passing `cache=True`, which enables much faster reading from a cache file.\n",
      "--> This might be very slow. Consider passing `cache=True`, which enables much faster reading from a cache file.\n",
      "--> This might be very slow. Consider passing `cache=True`, which enables much faster reading from a cache file.\n",
      "--> This might be very slow. Consider passing `cache=True`, which enables much faster reading from a cache file.\n",
      "--> This might be very slow. Consider passing `cache=True`, which enables much faster reading from a cache file.\n",
      "--> This might be very slow. Consider passing `cache=True`, which enables much faster reading from a cache file.\n",
      "--> This might be very slow. Consider passing `cache=True`, which enables much faster reading from a cache file.\n",
      "--> This might be very slow. Consider passing `cache=True`, which enables much faster reading from a cache file.\n",
      "--> This might be very slow. Consider passing `cache=True`, which enables much faster reading from a cache file.\n",
      "--> This might be very slow. Consider passing `cache=True`, which enables much faster reading from a cache file.\n",
      "--> This might be very slow. Consider passing `cache=True`, which enables much faster reading from a cache file.\n",
      "--> This might be very slow. Consider passing `cache=True`, which enables much faster reading from a cache file.\n",
      "--> This might be very slow. Consider passing `cache=True`, which enables much faster reading from a cache file.\n",
      "--> This might be very slow. Consider passing `cache=True`, which enables much faster reading from a cache file.\n",
      "--> This might be very slow. Consider passing `cache=True`, which enables much faster reading from a cache file.\n",
      "--> This might be very slow. Consider passing `cache=True`, which enables much faster reading from a cache file.\n",
      "--> This might be very slow. Consider passing `cache=True`, which enables much faster reading from a cache file.\n",
      "--> This might be very slow. Consider passing `cache=True`, which enables much faster reading from a cache file.\n",
      "--> This might be very slow. Consider passing `cache=True`, which enables much faster reading from a cache file.\n",
      "--> This might be very slow. Consider passing `cache=True`, which enables much faster reading from a cache file.\n",
      "--> This might be very slow. Consider passing `cache=True`, which enables much faster reading from a cache file.\n",
      "--> This might be very slow. Consider passing `cache=True`, which enables much faster reading from a cache file.\n",
      "--> This might be very slow. Consider passing `cache=True`, which enables much faster reading from a cache file.\n",
      "--> This might be very slow. Consider passing `cache=True`, which enables much faster reading from a cache file.\n",
      "--> This might be very slow. Consider passing `cache=True`, which enables much faster reading from a cache file.\n",
      "--> This might be very slow. Consider passing `cache=True`, which enables much faster reading from a cache file.\n",
      "--> This might be very slow. Consider passing `cache=True`, which enables much faster reading from a cache file.\n",
      "--> This might be very slow. Consider passing `cache=True`, which enables much faster reading from a cache file.\n",
      "--> This might be very slow. Consider passing `cache=True`, which enables much faster reading from a cache file.\n",
      "--> This might be very slow. Consider passing `cache=True`, which enables much faster reading from a cache file.\n",
      "--> This might be very slow. Consider passing `cache=True`, which enables much faster reading from a cache file.\n",
      "--> This might be very slow. Consider passing `cache=True`, which enables much faster reading from a cache file.\n",
      "--> This might be very slow. Consider passing `cache=True`, which enables much faster reading from a cache file.\n",
      "--> This might be very slow. Consider passing `cache=True`, which enables much faster reading from a cache file.\n",
      "--> This might be very slow. Consider passing `cache=True`, which enables much faster reading from a cache file.\n",
      "--> This might be very slow. Consider passing `cache=True`, which enables much faster reading from a cache file.\n",
      "--> This might be very slow. Consider passing `cache=True`, which enables much faster reading from a cache file.\n",
      "--> This might be very slow. Consider passing `cache=True`, which enables much faster reading from a cache file.\n",
      "--> This might be very slow. Consider passing `cache=True`, which enables much faster reading from a cache file.\n",
      "--> This might be very slow. Consider passing `cache=True`, which enables much faster reading from a cache file.\n",
      "--> This might be very slow. Consider passing `cache=True`, which enables much faster reading from a cache file.\n",
      "--> This might be very slow. Consider passing `cache=True`, which enables much faster reading from a cache file.\n",
      "--> This might be very slow. Consider passing `cache=True`, which enables much faster reading from a cache file.\n",
      "--> This might be very slow. Consider passing `cache=True`, which enables much faster reading from a cache file.\n",
      "--> This might be very slow. Consider passing `cache=True`, which enables much faster reading from a cache file.\n",
      "--> This might be very slow. Consider passing `cache=True`, which enables much faster reading from a cache file.\n",
      "--> This might be very slow. Consider passing `cache=True`, which enables much faster reading from a cache file.\n",
      "--> This might be very slow. Consider passing `cache=True`, which enables much faster reading from a cache file.\n",
      "--> This might be very slow. Consider passing `cache=True`, which enables much faster reading from a cache file.\n",
      "--> This might be very slow. Consider passing `cache=True`, which enables much faster reading from a cache file.\n",
      "--> This might be very slow. Consider passing `cache=True`, which enables much faster reading from a cache file.\n",
      "--> This might be very slow. Consider passing `cache=True`, which enables much faster reading from a cache file.\n",
      "--> This might be very slow. Consider passing `cache=True`, which enables much faster reading from a cache file.\n",
      "--> This might be very slow. Consider passing `cache=True`, which enables much faster reading from a cache file.\n",
      "--> This might be very slow. Consider passing `cache=True`, which enables much faster reading from a cache file.\n",
      "--> This might be very slow. Consider passing `cache=True`, which enables much faster reading from a cache file.\n",
      "--> This might be very slow. Consider passing `cache=True`, which enables much faster reading from a cache file.\n",
      "--> This might be very slow. Consider passing `cache=True`, which enables much faster reading from a cache file.\n",
      "--> This might be very slow. Consider passing `cache=True`, which enables much faster reading from a cache file.\n",
      "--> This might be very slow. Consider passing `cache=True`, which enables much faster reading from a cache file.\n",
      "--> This might be very slow. Consider passing `cache=True`, which enables much faster reading from a cache file.\n",
      "--> This might be very slow. Consider passing `cache=True`, which enables much faster reading from a cache file.\n",
      "--> This might be very slow. Consider passing `cache=True`, which enables much faster reading from a cache file.\n",
      "--> This might be very slow. Consider passing `cache=True`, which enables much faster reading from a cache file.\n"
     ]
    }
   ],
   "source": [
    "herv_file_list = glob('/storage/zhufan/data/GSE196830/matrix/herv_gene_repeatmasker/*')\n",
    "herv_adata_list = []\n",
    "for herv_file in herv_file_list:\n",
    "    gsm =  herv_file.split('/')[-1]\n",
    "    pool = batch_pool_dict[gsm]\n",
    "    herv = sc.read_10x_mtx(herv_file)\n",
    "    herv.obs_names = herv.obs.reset_index()['index'].apply(lambda x : x.split('-')[0] + '-' + str(batch_pool_dict[gsm])).values\n",
    "    herv.obs['batch'] = gsm\n",
    "    herv.obs['pool'] = str(batch_pool_dict[gsm])\n",
    "    herv_adata_list.append(herv)"
   ]
  },
  {
   "cell_type": "code",
   "execution_count": 4,
   "id": "fa5e079a-f0ac-4f12-9801-02af86f82ffd",
   "metadata": {},
   "outputs": [],
   "source": [
    "herv = sc.concat(herv_adata_list)"
   ]
  },
  {
   "cell_type": "code",
   "execution_count": 5,
   "id": "181d443a-53e8-4b76-8348-7ae3d1b1a365",
   "metadata": {},
   "outputs": [
    {
     "name": "stdout",
     "output_type": "stream",
     "text": [
      "filtered out 419471 genes that are detected in less than 1 cells\n"
     ]
    }
   ],
   "source": [
    "sc.pp.filter_cells(herv, min_genes = 1)\n",
    "sc.pp.filter_genes(herv, min_cells = 1)"
   ]
  },
  {
   "cell_type": "code",
   "execution_count": 22,
   "id": "ffbee5b5-bb4e-4e66-b673-e00d5ffcb58d",
   "metadata": {},
   "outputs": [
    {
     "data": {
      "text/plain": [
       "AnnData object with n_obs × n_vars = 1543972 × 273288\n",
       "    obs: 'batch', 'pool', 'n_genes'\n",
       "    var: 'n_cells'"
      ]
     },
     "execution_count": 22,
     "metadata": {},
     "output_type": "execute_result"
    }
   ],
   "source": [
    "herv"
   ]
  },
  {
   "cell_type": "code",
   "execution_count": 3,
   "id": "7cef720e-3dfb-4a34-857c-fbd52097ae42",
   "metadata": {},
   "outputs": [],
   "source": [
    "rna = sc.read_h5ad('./GSE196830_re_anno.h5ad')"
   ]
  },
  {
   "cell_type": "code",
   "execution_count": 23,
   "id": "71972187-09d9-4117-b15d-ba5aea1573f0",
   "metadata": {},
   "outputs": [],
   "source": [
    "common_index = rna.obs_names.intersection(herv.obs_names)\n",
    "rna = rna[common_index].copy()\n",
    "herv = herv[common_index].copy()"
   ]
  },
  {
   "cell_type": "code",
   "execution_count": 24,
   "id": "e0d14620-026e-48f3-911f-3bbcca14b8e8",
   "metadata": {},
   "outputs": [
    {
     "data": {
      "text/plain": [
       "AnnData object with n_obs × n_vars = 1174452 × 273288\n",
       "    obs: 'batch', 'pool', 'n_genes'\n",
       "    var: 'n_cells'"
      ]
     },
     "execution_count": 24,
     "metadata": {},
     "output_type": "execute_result"
    }
   ],
   "source": [
    "herv"
   ]
  },
  {
   "cell_type": "code",
   "execution_count": 37,
   "id": "4bda87a2-6349-426b-b491-f45d2034ae5c",
   "metadata": {},
   "outputs": [],
   "source": [
    "adata = herv.copy()"
   ]
  },
  {
   "cell_type": "code",
   "execution_count": 38,
   "id": "6d59bb8f-7828-447e-a74e-6545de038ce6",
   "metadata": {},
   "outputs": [
    {
     "name": "stdout",
     "output_type": "stream",
     "text": [
      "filtered out 216620 genes that are detected in less than 20 cells\n"
     ]
    }
   ],
   "source": [
    "sc.pp.filter_genes(adata, min_cells = 20)"
   ]
  },
  {
   "cell_type": "code",
   "execution_count": 43,
   "id": "6f51703e-1f4e-482c-bee3-33ea138a1d59",
   "metadata": {},
   "outputs": [],
   "source": [
    "out = '/storage/liuyi/06.herv/herv_adata/herv_adata_product'\n",
    "adata.obs[['indiv_ID','sex','age','celltype','age_stage','age_phase']] = rna.obs[['indiv_ID','sex','age','celltype','age_stage','age_phase']]\n",
    "herv_info = pd.read_csv('/storage/liuyi/06.herv/herv_adata/herv_adata_product/herv_info/HERV_gene_info.txt',sep = '\\t',header=None,index_col=4,names=['chrom','func','start','end'])\n",
    "adata.var[['chrom','start','end']] = herv_info[['chrom','start','end']]\n",
    "adata.var[['chrom','start','end']].to_csv(f'{out}/effect_herv.bed',sep = '\\t',index = None,header=None)"
   ]
  },
  {
   "cell_type": "code",
   "execution_count": 47,
   "id": "61c1c03b-8654-4dfb-aa13-1f21609e5848",
   "metadata": {},
   "outputs": [
    {
     "name": "stdout",
     "output_type": "stream",
     "text": [
      "filtered out 30449 genes that are detected in less than 10 cells\n",
      "filtered out 2503 genes that are detected in less than 10 cells\n",
      "filtered out 6586 genes that are detected in less than 10 cells\n"
     ]
    }
   ],
   "source": [
    "out = '/storage/liuyi/06.herv/herv_adata/herv_adata_product/all_herv'\n",
    "for age_phase in ['adult','aging','aged']:\n",
    "    tmp_adata = adata[adata.obs['age_phase'] == age_phase].copy()\n",
    "    sc.pp.filter_genes(tmp_adata, min_cells = 10)\n",
    "    sc.pp.calculate_qc_metrics(tmp_adata,percent_top=None, log1p=False, inplace=True)\n",
    "    tmp_df = tmp_adata.var[['chrom','start','end','total_counts']].copy()\n",
    "    tmp_df['total_counts'] = tmp_df['total_counts']/tmp_df['total_counts'].sum()*1e5\n",
    "    tmp_df.to_csv(f'{out}/effect_herv_{age_phase}.bed',sep = '\\t',index = None,header=None)"
   ]
  },
  {
   "cell_type": "code",
   "execution_count": 48,
   "id": "45f70157-fc1b-4f30-b716-a1bd91250b38",
   "metadata": {},
   "outputs": [],
   "source": [
    "annotation = pd.read_csv('/storage/liuyi/06.herv/herv_adata/herv_adata_product/herv_info/effect_herv_annotated.txt',sep = '\\t')\n",
    "annotation.index = adata.var_names\n",
    "adata.var[['width','annotation','distanceToTSS','gene_name']] = annotation[['width','annotation','distanceToTSS','SYMBOL']]"
   ]
  },
  {
   "cell_type": "code",
   "execution_count": 50,
   "id": "e4571f47-3d08-41f4-af02-79c39efae51b",
   "metadata": {},
   "outputs": [],
   "source": [
    "sc.write('herv.anno.h5ad',adata)"
   ]
  },
  {
   "cell_type": "code",
   "execution_count": 3,
   "id": "5f5bd512-6028-4f11-8a89-2988eb72a89d",
   "metadata": {},
   "outputs": [],
   "source": [
    "herv= sc.read_h5ad('herv.anno.h5ad')"
   ]
  },
  {
   "cell_type": "code",
   "execution_count": null,
   "id": "f4520d72-108e-4d18-a491-2f7c54174c59",
   "metadata": {},
   "outputs": [],
   "source": []
  },
  {
   "cell_type": "code",
   "execution_count": null,
   "id": "059d0f80-3c03-4926-9346-85e3c56e9993",
   "metadata": {},
   "outputs": [],
   "source": []
  },
  {
   "cell_type": "code",
   "execution_count": null,
   "id": "e6afcef2-6e43-4254-89e6-446ab295214f",
   "metadata": {},
   "outputs": [],
   "source": []
  },
  {
   "cell_type": "code",
   "execution_count": null,
   "id": "66971eb1-b2e7-4a7c-9041-bd683c22cf8b",
   "metadata": {},
   "outputs": [],
   "source": []
  }
 ],
 "metadata": {
  "kernelspec": {
   "display_name": "mates",
   "language": "python",
   "name": "zhufan"
  },
  "language_info": {
   "codemirror_mode": {
    "name": "ipython",
    "version": 3
   },
   "file_extension": ".py",
   "mimetype": "text/x-python",
   "name": "python",
   "nbconvert_exporter": "python",
   "pygments_lexer": "ipython3",
   "version": "3.9.15"
  }
 },
 "nbformat": 4,
 "nbformat_minor": 5
}
