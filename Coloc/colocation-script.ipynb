{
 "cells": [
  {
   "cell_type": "code",
   "execution_count": null,
   "id": "dde65a08-541b-41a6-8b2f-92da8f81819e",
   "metadata": {},
   "outputs": [],
   "source": [
    "library(remotes)\n",
    "library(dplyr)\n",
    "#install_github(\"chr1swallace/coloc\",build_vignettes=TRUE)\n",
    "library(\"coloc\")"
   ]
  },
  {
   "cell_type": "code",
   "execution_count": null,
   "id": "f3b0a8c9-8cfa-400c-bf8d-e39b822305e9",
   "metadata": {},
   "outputs": [],
   "source": [
    "snp_info<-read.csv(\"/path/of/annotation/snp_info_uniq.txt\",sep = ',')\n",
    "names(snp_info)=c(\"snpid\",\"snp\",\"chr\",\"position\",\"MAF\",'anno','R','F')\n",
    "head(snp_info)"
   ]
  },
  {
   "cell_type": "code",
   "execution_count": null,
   "id": "080038c1-ef7e-44a0-a9f2-c578a2171ac1",
   "metadata": {},
   "outputs": [],
   "source": [
    "run_coloc_for_gene <- function(gene_name, df,significance_threshold = 0.75,gwas_number,percent_case,eqtl_number) {\n",
    "  test <- df[df$gene == gene_name,]\n",
    "  print (gene_name)\n",
    "  my.res <- coloc.abf(\n",
    "    dataset1 = list(snp = test$snpid,  beta = test$b, varbeta = test$var ,type = \"cc\",N= gwas_number,s = percent_case),\n",
    "    dataset2 = list(snp = test$snpid, beta = test$beta, varbeta = test$beta_se2, MAF = test$maf, N = eqtl_number, type = \"quant\"),\n",
    "    MAF = test$maf\n",
    "  )\n",
    "    my.res$summary$gene <- gene_name\n",
    "\n",
    "\n",
    "  if (my.res$summary$PP.H4.abf >= significance_threshold) {\n",
    "    #print(my.res$summary$PP.H4.abf)\n",
    "    my.res$results$gene <- gene_name\n",
    "    my.res$results$PP.H4.abf <-my.res$summary$PP.H4.abf \n",
    "    return(my.res$results)}\n",
    "  else {\n",
    "    return(NULL) \n",
    "  }\n",
    "\n",
    "}"
   ]
  },
  {
   "cell_type": "code",
   "execution_count": null,
   "id": "d1984732-c699-49a0-8a44-1e93ae4029ec",
   "metadata": {},
   "outputs": [],
   "source": [
    "gwas_type = \"CD\"\n",
    "gwas <- read.csv(paste(\"/path/of/gwas/\",gwas_type,\"/\",gwas_type,\"_har_n.tsv\",sep = \"\"),sep = '\\t')\n",
    "names(gwas) <- c('snpid','A1','A2','freq','b','se','p','case','conctol','n')\n",
    "\n",
    "gwas$var <- (gwas$se)^2\n",
    "gwas <- gwas[!duplicated(gwas[,c(\"snpid\")]), ]\n",
    "gwas <- gwas[gwas$b != 0, ]\n",
    "gwas <- gwas[gwas$var != 0, ]\n",
    "N = gwas$n[1]\n",
    "s = gwas$case[1] / gwas$n[1]"
   ]
  },
  {
   "cell_type": "code",
   "execution_count": null,
   "id": "b2c081db-7ce3-4a25-91e5-7e083f09dc7b",
   "metadata": {},
   "outputs": [],
   "source": [
    "celltype=\"CD4-T\"\n",
    "chrom=\"6\"\n",
    "eqtl <- read.csv(paste(\"/path/of/tensorqtl/cis/\",celltype,\"_chr\",chrom,\".csv\",sep = \"\"),row.names = 1)\n",
    "eqtl$beta_se2 <- (eqtl$beta_se)^2\n",
    "eqtl_df <- left_join(eqtl, snp_info, by=\"snpid\")\n",
    "eqtl_df <- eqtl_df[!duplicated(eqtl_df[,c(\"snpid\",\"hervid\")]), ]\n",
    "df <- left_join(eqtl_df, gwas, by=\"snpid\")\n",
    "df <- na.omit(df)"
   ]
  },
  {
   "cell_type": "code",
   "execution_count": null,
   "id": "683c518f-22aa-4246-8371-c9c530d14add",
   "metadata": {},
   "outputs": [],
   "source": [
    "gene=\"MER65-int_dup45-chr6\"\n",
    "eqtl_Number = 981\n",
    "res <- run_coloc_for_gene(gene, df ,gwas_number=N,percent_case=s,eqtl_number = eqtl_Number)"
   ]
  },
  {
   "cell_type": "code",
   "execution_count": null,
   "id": "908a9a25-1115-46e5-a9f2-361471726c2b",
   "metadata": {},
   "outputs": [],
   "source": [
    "print(head(res[order(res$SNP.PP.H4, decreasing = TRUE),]))"
   ]
  },
  {
   "cell_type": "code",
   "execution_count": null,
   "id": "4d8edbb7-64a9-4a20-805f-c395dd126cf6",
   "metadata": {},
   "outputs": [],
   "source": []
  },
  {
   "cell_type": "code",
   "execution_count": null,
   "id": "0753852b-bd33-41c3-8bad-9dc2d572ac4b",
   "metadata": {},
   "outputs": [],
   "source": []
  },
  {
   "cell_type": "code",
   "execution_count": null,
   "id": "6542f071-19a9-4769-b8db-509b766251f4",
   "metadata": {},
   "outputs": [],
   "source": []
  },
  {
   "cell_type": "code",
   "execution_count": null,
   "id": "619762d9-6380-4520-8f64-789f94fcc3e6",
   "metadata": {},
   "outputs": [],
   "source": []
  },
  {
   "cell_type": "code",
   "execution_count": null,
   "id": "c9737857-cdf3-4ccf-beb4-2e6cf003035d",
   "metadata": {},
   "outputs": [],
   "source": []
  }
 ],
 "metadata": {
  "kernelspec": {
   "display_name": "R",
   "language": "R",
   "name": "ir"
  },
  "language_info": {
   "codemirror_mode": "r",
   "file_extension": ".r",
   "mimetype": "text/x-r-source",
   "name": "R",
   "pygments_lexer": "r",
   "version": "4.2.0"
  }
 },
 "nbformat": 4,
 "nbformat_minor": 5
}
