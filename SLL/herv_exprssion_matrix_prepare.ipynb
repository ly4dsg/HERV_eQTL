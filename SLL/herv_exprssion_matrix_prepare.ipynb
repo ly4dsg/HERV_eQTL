{
 "cells": [
  {
   "cell_type": "code",
   "execution_count": null,
   "id": "f5e10c53-09d3-44e5-a237-2606e66c2157",
   "metadata": {},
   "outputs": [],
   "source": [
    "import pandas as pd\n",
    "import numpy as np\n",
    "import scanpy as sc"
   ]
  },
  {
   "cell_type": "code",
   "execution_count": null,
   "id": "6db71dfd-b97d-4685-a27c-1524ee2cb1cd",
   "metadata": {},
   "outputs": [],
   "source": [
    "import warnings\n",
    "warnings.filterwarnings(\"ignore\")"
   ]
  },
  {
   "cell_type": "code",
   "execution_count": null,
   "id": "177a23c7-d8d0-4913-8016-a99be5dbb98f",
   "metadata": {},
   "outputs": [],
   "source": [
    "HERV_path = \"/path/of/herv.anno.h5ad\"\n",
    "RNA_path = \"/path/of/GSE196830_re_anno.h5ad\""
   ]
  },
  {
   "cell_type": "code",
   "execution_count": null,
   "id": "811b3cb1-751e-4ff4-8aaa-12c2f6b1c1cc",
   "metadata": {},
   "outputs": [],
   "source": [
    "def adata_group(adata, groupby, layer=None, use_raw=False, min_cells=0):\n",
    "    \n",
    "    counts = adata.obs[groupby].value_counts() \n",
    "    indiv = counts[counts >= min_cells].index\n",
    "    adata = adata[adata.obs[groupby].isin(indiv), :]\n",
    "    index = adata.obs[groupby].unique()\n",
    "    if use_raw:\n",
    "        adata = adata.raw.to_adata()\n",
    "    \n",
    "    if layer is not None:\n",
    "        csr = adata.layers[layer]\n",
    "    else:\n",
    "        csr = adata.X\n",
    "    \n",
    "    df = pd.DataFrame([np.array(csr[adata.obs[groupby]==x, :].sum(axis=0))[0, :] for x in index], index=index, columns=adata.var_names)\n",
    "    \n",
    "    bulk = sc.AnnData(df)\n",
    "    \n",
    "    age_dict = dict(zip(adata.obs[groupby], adata.obs['age']))\n",
    "    sex_dict = dict(zip(adata.obs[groupby], adata.obs['sex']))\n",
    "    age_phase_dict = dict(zip(adata.obs[groupby], adata.obs['age_phase']))\n",
    "    age_stage_dict = dict(zip(adata.obs[groupby], adata.obs['age_stage']))\n",
    "    bulk.obs['age'] = [age_dict[x] for x in bulk.obs_names]\n",
    "    bulk.obs['sex'] = [sex_dict[x] for x in bulk.obs_names]\n",
    "    bulk.obs['age_phase'] = [age_phase_dict[x] for x in bulk.obs_names]\n",
    "    bulk.obs['age_stage'] = [age_stage_dict[x] for x in bulk.obs_names]\n",
    "    bulk.obs[groupby] = bulk.obs_names.values\n",
    "    return bulk"
   ]
  },
  {
   "cell_type": "code",
   "execution_count": null,
   "id": "4854d5e6-1411-4fd7-9af1-e29fa629d9f7",
   "metadata": {},
   "outputs": [],
   "source": [
    "RNA = sc.read(RNA_path)\n",
    "HERV = sc.read(HERV_path)"
   ]
  },
  {
   "cell_type": "code",
   "execution_count": null,
   "id": "186dc771-7668-4611-b927-dff7ba556152",
   "metadata": {},
   "outputs": [],
   "source": [
    "for celltype in ['CD4-T','CD8-T','Bcells','NK','Myeloid']:    \n",
    "    RNA = sc.read(RNA_path)\n",
    "    RNA_tmp = RNA[RNA.obs['celltype']==celltype]\n",
    "    bulk_RNA = adata_group(RNA_tmp, 'indiv_ID',layer=\"counts\")\n",
    "    bulk_RNA.var['mt'] = bulk_RNA.var_names.str.startswith('MT-')  # annotate the group of mitochondrial genes as 'mt'\n",
    "    sc.pp.calculate_qc_metrics(bulk_RNA, qc_vars=['mt'], percent_top=None, log1p=False, inplace=True)\n",
    "    HERV = sc.read(HERV_path)\n",
    "    HERV_tmp = HERV[HERV.obs['celltype']==celltype]\n",
    "    bulk_HERV = adata_group(HERV_tmp, 'indiv_ID')\n",
    "    gene_expression = bulk_HERV.X\n",
    "\n",
    "    total_counts = bulk_RNA.obs['total_counts'].values\n",
    "\n",
    "    for i in range(gene_expression.shape[0]):\n",
    "        gene_expression[i] = gene_expression[i] / total_counts[i] *1e6\n",
    "\n",
    "    obs = bulk_HERV.obs.copy()\n",
    "    var = bulk_HERV.var.copy()\n",
    "\n",
    "    bulk_HERV_norm = sc.AnnData(X=gene_expression)\n",
    "    bulk_HERV_norm.obs = obs\n",
    "    bulk_HERV_norm.var = var\n",
    "\n",
    "    sc.pp.log1p(bulk_HERV_norm)\n",
    "    df = pd.DataFrame(data=bulk_HERV_norm.X,index=bulk_HERV_norm.obs_names,columns=bulk_HERV_norm.var_names)\n",
    "    df.to_csv(f\"/path/of/expression/{celltype}/{celltype}_herv.csv\")"
   ]
  },
  {
   "cell_type": "code",
   "execution_count": null,
   "id": "cabbe729-54a0-4ecf-b6c2-c99e4f046a31",
   "metadata": {},
   "outputs": [],
   "source": []
  }
 ],
 "metadata": {
  "kernelspec": {
   "display_name": "Python 3 (ipykernel)",
   "language": "python",
   "name": "python3"
  },
  "language_info": {
   "codemirror_mode": {
    "name": "ipython",
    "version": 3
   },
   "file_extension": ".py",
   "mimetype": "text/x-python",
   "name": "python",
   "nbconvert_exporter": "python",
   "pygments_lexer": "ipython3",
   "version": "3.11.10"
  }
 },
 "nbformat": 4,
 "nbformat_minor": 5
}
